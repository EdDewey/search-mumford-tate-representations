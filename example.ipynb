{
 "cells": [
  {
   "cell_type": "markdown",
   "metadata": {},
   "source": [
    "This is an example to show how to look for irreducible Hodge representations of semisimple groups, admitting a symmetric/antisymmetric form and with specified Hodge numbers. We only look at them over $\\mathbb{C}$, which is a little silly since a lot of what makes Mumford-Tate groups interesting is their real structure, but there you are.\n",
    "\n",
    "We first use some Lie group combinatorics to find all irreducible representations of dimension 10 with a symmetric form.  The hardest part is checking for a symmetric form, but this has done already by the Sage authors.  All that is left for us to do is to enumerate over root lattices."
   ]
  },
  {
   "cell_type": "code",
   "execution_count": 2,
   "metadata": {},
   "outputs": [
    {
     "name": "stdout",
     "output_type": "stream",
     "text": [
      "(1/2, -1/2, 2, -2)\n",
      "Ambient space of the Root system of type A1xA1\n",
      "Ambient space of the Root system of type A1xA4\n",
      "Ambient space of the Root system of type A1xA4\n",
      "Ambient space of the Root system of type A1xB2\n",
      "Ambient space of the Root system of type ['A', 1]\n",
      "Ambient space of the Root system of type ['A', 2]\n",
      "Ambient space of the Root system of type ['A', 2]\n",
      "Ambient space of the Root system of type ['A', 3]\n",
      "Ambient space of the Root system of type ['A', 3]\n",
      "Ambient space of the Root system of type ['A', 4]\n",
      "Ambient space of the Root system of type ['A', 4]\n",
      "Ambient space of the Root system of type ['A', 9]\n",
      "Ambient space of the Root system of type ['A', 9]\n",
      "Ambient space of the Root system of type ['B', 2]\n",
      "Ambient space of the Root system of type ['C', 5]\n",
      "Ambient space of the Root system of type ['D', 5]\n"
     ]
    }
   ],
   "source": [
    "import searchRepresentations as sr\n",
    "\n",
    "# list all irreducible representations of dimension 10\n",
    "irreps = sr.irreps(10)\n",
    "\n",
    "# A representation is encoded as a vector in a root lattice.\n",
    "print(irreps[0])\n",
    "\n",
    "# In particular the parent tells you the Cartan type of the group with that representation.\n",
    "for w in irreps:\n",
    "    print(w.parent())"
   ]
  },
  {
   "cell_type": "code",
   "execution_count": 4,
   "metadata": {},
   "outputs": [
    {
     "name": "stdout",
     "output_type": "stream",
     "text": [
      "Ambient space of the Root system of type ['A', 1]\n",
      "Ambient space of the Root system of type A1xA1\n",
      "Ambient space of the Root system of type A1xB2\n",
      "Ambient space of the Root system of type ['C', 5]\n"
     ]
    }
   ],
   "source": [
    "# Pull out only the symmetric ones (can takes a while!).  The -1 arument says that we want antisymmetric forms.\n",
    "symreps = symmetric_reps = sr.symmetric_representations(10, -1, irreps)\n",
    "for w in symreps:\n",
    "    print(w.parent())"
   ]
  },
  {
   "cell_type": "markdown",
   "metadata": {},
   "source": [
    "Now that we have all representations we want to consider Hodge representations.  A Hodge representation of G is determined from a representation of G by choosing a Deligne torus in G, and the Hodge numbers of the representation can by evaluated by pairing all weights of the representation with the complexification of the real part of the Deligne torus (considered as a cocharacter of G).  In particular, if a representation is to underly a Hodge representation with fixed Hodge numbers, then for any maximal torus there must exist a cocharacter of the torus which  pairs with exactly h^{p,q} weights of the maximal torus on the alleged Hodge representation, to give p-q. And there are only finitely many cocharacters to check, since (in an irreducible representation) any nonzero cocharacter pairs nontrivially with some weight.  So for any representation (encoded as above) and any list of Hodge numbers, we can search for cocharacters producing those Hodge numbers)\n",
    "\n",
    "First we search the first representation for a Deligne torus in the three-dimensional representation of sl2, that would produce hodge numbers of fixed weight and with h^{p,q} = 1 for p-1 = 1,0,-1 and 0 otherwise.  The false at the end of the funciton input says that we want to actually remember the cocharacters, not just check whether one exists.  Hodge numbers are specified as a dictionary, where the first number is p-q and the second is h^{p,q}."
   ]
  },
  {
   "cell_type": "code",
   "execution_count": 10,
   "metadata": {},
   "outputs": [
    {
     "name": "stdout",
     "output_type": "stream",
     "text": [
      "Ambient space of the Root system of type ['A', 1]\n",
      "(2, -2)\n",
      "(-2, 2)\n"
     ]
    }
   ],
   "source": [
    "# Get the standard representation of sl2\n",
    "standard_sl2 = sr.irreps(2)[0]\n",
    "print(standard_sl2.parent())\n",
    "\n",
    "good_cocharacters = sr.search_for_circle(standard_sl2, {1:1, -1:1}, False)\n",
    "for chi in good_cocharacters:\n",
    "    print(chi)"
   ]
  },
  {
   "cell_type": "markdown",
   "metadata": {},
   "source": [
    "This makes sense: The tautological action of Sp_2 on $\\mathbb{\\C}^2$ underlies a family of Hodge representations.  For convenience take the one where $V^{1,0} = \\langle [1, i]^T \\rangle$ and $V^{0,1} = \\langle [1,-i]^T \\rangle$.  The Deligne torus is included as $\\left[ \\begin{array}{cc} x & -y \\\\ y & x \\end{array} \\right]$.  Over $\\C$ this is conjugate to the diagonal subgroup of SL2.  Considering it as a cocharacter of SL2 it pairs with the weights of the representation to give $\\pm 2$.  \n",
    "\n",
    "Finally we check (by process of elimination) that any simple Hodge representation of level 1 and weight 3 with hodge numbers $h^{1,2} = h^{2,1} = 5$ must be a representation of a group of type A1xA1 or C5.  (The example is motivated by the primal cohomology of the theta divisor in a generic abelian fourfold, see Izadi and van Stratten's 1995 paper)"
   ]
  },
  {
   "cell_type": "code",
   "execution_count": 9,
   "metadata": {},
   "outputs": [
    {
     "name": "stdout",
     "output_type": "stream",
     "text": [
      "No acceptable Hodge representation for representation number 0\n",
      "Found a representation of type Ambient space of the Root system of type A1xA1\n",
      "No acceptable Hodge representation for representation number 2\n",
      "Found a representation of type Ambient space of the Root system of type ['C', 5]\n"
     ]
    }
   ],
   "source": [
    "our_hodge_numbers = {-1:5, 1:5}\n",
    "index = 0\n",
    "for w in symreps:\n",
    "    if sr.search_for_circle(w, our_hodge_numbers, True):\n",
    "        print('Found a representation of type ' + str(w.parent()))\n",
    "    else:\n",
    "        print('No acceptable Hodge representation for representation number ' +  str(index) )\n",
    "    index += 1"
   ]
  }
 ],
 "metadata": {
  "kernelspec": {
   "display_name": "SageMath 8.2",
   "language": "",
   "name": "sagemath"
  },
  "language_info": {
   "codemirror_mode": {
    "name": "ipython",
    "version": 2
   },
   "file_extension": ".py",
   "mimetype": "text/x-python",
   "name": "python",
   "nbconvert_exporter": "python",
   "pygments_lexer": "ipython2",
   "version": "2.7.15"
  }
 },
 "nbformat": 4,
 "nbformat_minor": 2
}
